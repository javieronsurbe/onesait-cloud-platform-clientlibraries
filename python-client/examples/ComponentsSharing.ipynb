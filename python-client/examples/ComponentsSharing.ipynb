{
 "cells": [
  {
   "cell_type": "markdown",
   "metadata": {},
   "source": [
    "# Global dummy vars"
   ]
  },
  {
   "cell_type": "code",
   "execution_count": 9,
   "metadata": {},
   "outputs": [],
   "source": [
    "# Base Client\n",
    "HOST = \"<host>\"\n",
    "PORT = 0\n",
    "PROTOCOL = \"https\"\n",
    "AVOID_SSL_CERTIFICATE = True\n",
    "TIMEOUT = 10 * 1000\n",
    "PROXIES = {\n",
    "    \"http\": \"http://proxy.company.es:0000\",\n",
    "    \"https\": \"https://proxy.company.es:0000\"\n",
    "}\n",
    "# Digital Client\n",
    "IOT_CLIENT = \"<iot_client>\"\n",
    "IOT_CLIENT_TOKEN = \"<iot_client_token>\"\n",
    "# Api Manager Client\n",
    "USER_TOKEN = \"<user_token>\""
   ]
  },
  {
   "cell_type": "markdown",
   "metadata": {},
   "source": [
    "# Client Sharing"
   ]
  },
  {
   "cell_type": "code",
   "execution_count": 10,
   "metadata": {},
   "outputs": [],
   "source": [
    "from onesaitplatform.base import Client"
   ]
  },
  {
   "cell_type": "code",
   "execution_count": 11,
   "metadata": {},
   "outputs": [],
   "source": [
    "client = Client(HOST, PORT)\n",
    "client.protocol = PROTOCOL\n",
    "client.avoid_ssl_certificate = AVOID_SSL_CERTIFICATE\n",
    "client.timeout = TIMEOUT\n",
    "client.proxies = PROXIES"
   ]
  },
  {
   "cell_type": "code",
   "execution_count": 12,
   "metadata": {},
   "outputs": [
    {
     "data": {
      "text/plain": [
       "{'host': '<host>',\n",
       " 'port': 0,\n",
       " 'protocol': 'https',\n",
       " 'is_connected': False,\n",
       " 'proxies': {'http': 'http://proxy.company.es:0000',\n",
       "  'https': 'https://proxy.company.es:0000'},\n",
       " 'timeout': 10000,\n",
       " 'avoid_ssl_certificate': True,\n",
       " 'raise_exceptions': False}"
      ]
     },
     "execution_count": 12,
     "metadata": {},
     "output_type": "execute_result"
    }
   ],
   "source": [
    "client.to_json()"
   ]
  },
  {
   "cell_type": "code",
   "execution_count": 13,
   "metadata": {},
   "outputs": [
    {
     "data": {
      "text/plain": [
       "{'host': '<host>',\n",
       " 'port': 0,\n",
       " 'protocol': 'https',\n",
       " 'is_connected': False,\n",
       " 'proxies': {'http': 'http://proxy.company.es:0000',\n",
       "  'https': 'https://proxy.company.es:0000'},\n",
       " 'timeout': 10000,\n",
       " 'avoid_ssl_certificate': True,\n",
       " 'raise_exceptions': False}"
      ]
     },
     "execution_count": 13,
     "metadata": {},
     "output_type": "execute_result"
    }
   ],
   "source": [
    "client2 = Client.from_json(client.to_json())\n",
    "client2.to_json()"
   ]
  },
  {
   "cell_type": "markdown",
   "metadata": {},
   "source": [
    "# Digital Client Sharing"
   ]
  },
  {
   "cell_type": "code",
   "execution_count": 14,
   "metadata": {},
   "outputs": [],
   "source": [
    "from onesaitplatform.iotbroker import DigitalClient"
   ]
  },
  {
   "cell_type": "code",
   "execution_count": 15,
   "metadata": {},
   "outputs": [
    {
     "name": "stdout",
     "output_type": "stream",
     "text": [
      "Info - IotBrokerClient will be soon deprecated, please use DigitalClient instead\n"
     ]
    }
   ],
   "source": [
    "client = DigitalClient(HOST, port=PORT, iot_client=IOT_CLIENT, iot_client_token=IOT_CLIENT_TOKEN)\n",
    "client.protocol = PROTOCOL\n",
    "client.avoid_ssl_certificate = AVOID_SSL_CERTIFICATE\n",
    "client.timeout = TIMEOUT\n",
    "client.proxies = PROXIES"
   ]
  },
  {
   "cell_type": "code",
   "execution_count": 16,
   "metadata": {},
   "outputs": [
    {
     "data": {
      "text/plain": [
       "{'host': '<host>',\n",
       " 'port': 0,\n",
       " 'protocol': 'https',\n",
       " 'iot_client': '<iot_client>',\n",
       " 'iot_client_token': '<iot_client_token>',\n",
       " 'is_connected': False,\n",
       " 'session_key': None,\n",
       " 'proxies': {'http': 'http://proxy.company.es:0000',\n",
       "  'https': 'https://proxy.company.es:0000'},\n",
       " 'timeout': 10000,\n",
       " 'avoid_ssl_certificate': True,\n",
       " 'raise_exceptions': False}"
      ]
     },
     "execution_count": 16,
     "metadata": {},
     "output_type": "execute_result"
    }
   ],
   "source": [
    "client.to_json()"
   ]
  },
  {
   "cell_type": "code",
   "execution_count": 17,
   "metadata": {},
   "outputs": [
    {
     "name": "stdout",
     "output_type": "stream",
     "text": [
      "Info - IotBrokerClient will be soon deprecated, please use DigitalClient instead\n"
     ]
    },
    {
     "data": {
      "text/plain": [
       "{'host': '<host>',\n",
       " 'port': 0,\n",
       " 'protocol': 'https',\n",
       " 'iot_client': '<iot_client>',\n",
       " 'iot_client_token': '<iot_client_token>',\n",
       " 'is_connected': False,\n",
       " 'session_key': None,\n",
       " 'proxies': {'http': 'http://proxy.company.es:0000',\n",
       "  'https': 'https://proxy.company.es:0000'},\n",
       " 'timeout': 10000,\n",
       " 'avoid_ssl_certificate': True,\n",
       " 'raise_exceptions': False}"
      ]
     },
     "execution_count": 17,
     "metadata": {},
     "output_type": "execute_result"
    }
   ],
   "source": [
    "client2 = DigitalClient.from_json(client.to_json())\n",
    "client2.to_json()"
   ]
  },
  {
   "cell_type": "markdown",
   "metadata": {},
   "source": [
    "# Api Manager Sharing"
   ]
  },
  {
   "cell_type": "code",
   "execution_count": 18,
   "metadata": {},
   "outputs": [],
   "source": [
    "from onesaitplatform.apimanager import ApiManagerClient"
   ]
  },
  {
   "cell_type": "code",
   "execution_count": 19,
   "metadata": {},
   "outputs": [],
   "source": [
    "HOST = \"<host>\"\n",
    "PORT = 0\n",
    "TOKEN = \"<token>\""
   ]
  },
  {
   "cell_type": "code",
   "execution_count": 23,
   "metadata": {},
   "outputs": [],
   "source": [
    "client = ApiManagerClient(HOST, PORT)\n",
    "client.protocol = PROTOCOL\n",
    "client.avoid_ssl_certificate = AVOID_SSL_CERTIFICATE\n",
    "client.timeout = TIMEOUT\n",
    "client.proxies = PROXIES\n",
    "client.token = USER_TOKEN"
   ]
  },
  {
   "cell_type": "code",
   "execution_count": 24,
   "metadata": {},
   "outputs": [
    {
     "data": {
      "text/plain": [
       "{'host': '<host>',\n",
       " 'port': 0,\n",
       " 'protocol': 'https',\n",
       " 'is_connected': False,\n",
       " 'token': '<user_token>',\n",
       " 'proxies': {'http': 'http://proxy.company.es:0000',\n",
       "  'https': 'https://proxy.company.es:0000'},\n",
       " 'timeout': 10000,\n",
       " 'avoid_ssl_certificate': True,\n",
       " 'raise_exceptions': False}"
      ]
     },
     "execution_count": 24,
     "metadata": {},
     "output_type": "execute_result"
    }
   ],
   "source": [
    "client.to_json()"
   ]
  },
  {
   "cell_type": "code",
   "execution_count": 25,
   "metadata": {},
   "outputs": [
    {
     "data": {
      "text/plain": [
       "{'host': '<host>',\n",
       " 'port': 0,\n",
       " 'protocol': 'https',\n",
       " 'is_connected': False,\n",
       " 'token': '<user_token>',\n",
       " 'proxies': {'http': 'http://proxy.company.es:0000',\n",
       "  'https': 'https://proxy.company.es:0000'},\n",
       " 'timeout': 10000,\n",
       " 'avoid_ssl_certificate': True,\n",
       " 'raise_exceptions': False}"
      ]
     },
     "execution_count": 25,
     "metadata": {},
     "output_type": "execute_result"
    }
   ],
   "source": [
    "client2 = ApiManagerClient.from_json(client.to_json())\n",
    "client2.to_json()"
   ]
  }
 ],
 "metadata": {
  "kernelspec": {
   "display_name": "Python 3",
   "language": "python",
   "name": "python3"
  },
  "language_info": {
   "codemirror_mode": {
    "name": "ipython",
    "version": 3
   },
   "file_extension": ".py",
   "mimetype": "text/x-python",
   "name": "python",
   "nbconvert_exporter": "python",
   "pygments_lexer": "ipython3",
   "version": "3.7.3"
  }
 },
 "nbformat": 4,
 "nbformat_minor": 2
}
